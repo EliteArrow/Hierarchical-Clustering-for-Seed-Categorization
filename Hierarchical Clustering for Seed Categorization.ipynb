{
 "cells": [
  {
   "cell_type": "markdown",
   "metadata": {},
   "source": [
    "# Hierarchical Clustering for Seed Categorization"
   ]
  },
  {
   "cell_type": "markdown",
   "metadata": {},
   "source": [
    "================================================================================================================================\n",
    "\n",
    "#### Implementation Steps:\n",
    "1. Import necessary libraries and modules.\n",
    "2. Define helper functions for distance calculation, k-NN classification, and accuracy metric.\n",
    "3. Define a function `splits_CV()` to create k-folds from a given dataset.\n",
    "4. Define a function `k_Fold()` that performs k-fold cross-validation and returns the average accuracy.\n",
    "5. Define a function `dataset_KNN()` that performs the following steps:\n",
    "    a. Remove the target column from the input DataFrame.\n",
    "    b. Shuffle the DataFrame.\n",
    "    c. Split the DataFrame into train and test sets.\n",
    "    d. Apply Agglomerative Clustering to the train set.\n",
    "    e. Calculate the distance of data points to the centroids of the clusters.\n",
    "    f. Perform min-max scaling on the calculated distances.\n",
    "    g. Return the modified train and test sets with the new features.\n",
    "6. Load the dataset (Seed_Data.csv).\n",
    "7. Perform a loop for each linkage type (single, complete, average) and then for each cluster number (3, 4, 5, 6, 7):\n",
    "    a. Call `dataset_KNN()` to get the modified train and test sets.\n",
    "    b. Save the modified train and test sets as .csv files.\n",
    "    c. Perform a loop for each k-NN (3, 5, 7, 9, 11):\n",
    "        i. Call `k_Fold()` to perform cross-validation on the train set and calculate the average accuracy.\n",
    "        ii. Print the average accuracy.\n",
    "8. Calculate the best scenario (best number of clusters) for each linkage type.\n",
    "9. Use the best scenario (in this case, 3 clusters and 'complete' linkage) to preprocess the dataset, and obtain the modified train and test sets.\n",
    "10. Apply k-NN (with k = 5) to the modified test set and obtain the predictions.\n",
    "11. Apply k-NN to the original dataset:\n",
    "    a. Shuffle the DataFrame.\n",
    "    b. Split the DataFrame into train and test sets.\n",
    "    c. Perform a loop for each k-NN (3, 5, 7, 9, 11):\n",
    "        i. Call `k_Fold()` to perform cross-validation on the train set and calculate the average accuracy.\n",
    "        ii. Print the average accuracy.\n",
    "12. Apply k-NN (with k = 5) to the original test set and obtain the predictions.\n",
    "13. Calculate the accuracy of the predictions for both the original and modified datasets using the `accuracy_metric()` function."
   ]
  },
  {
   "cell_type": "code",
   "execution_count": 1,
   "metadata": {
    "id": "SImZe4aVqA04"
   },
   "outputs": [],
   "source": [
    "import numpy as np\n",
    "import pandas as pd"
   ]
  },
  {
   "cell_type": "markdown",
   "metadata": {
    "id": "JgRwLsCQqb4H"
   },
   "source": [
    "## Agglomerative Clustering"
   ]
  },
  {
   "cell_type": "code",
   "execution_count": 2,
   "metadata": {
    "id": "ixbZa1IHqLaQ"
   },
   "outputs": [],
   "source": [
    "class AgglomerativeClustering:\n",
    "    def __init__(self,n_clusters=2,linkage=\"single\"):\n",
    "        \n",
    "        self.n_clusters = n_clusters\n",
    "        self.linkage = linkage\n",
    "\n",
    "    def fit_predict(self,X):\n",
    "        # Perform agglomerative clustering for input and returns cluster labels for each data items\n",
    "        n=X.shape[0]\n",
    "        d=self.d_matrix(X)\n",
    "        cluster=self.get_initial_cluster(n)\n",
    "        s=set(range(n))  \n",
    "        for _ in range(n-self.n_clusters):\n",
    "            p,q=np.unravel_index(np.argmin(d, axis=None), d.shape) # Find the indices of the smallest distance in distance matrix d\n",
    "            t_set=s-{p,q} \n",
    "            d=self.update_d(d,p,q,t_set,self.linkage) \n",
    "            cluster=self.update_cluster(cluster,p,q) \n",
    "            s=s-{max(p,q)} # remove indext of merged set\n",
    "        decor_l=[] # Store final clusters\n",
    "        for v in cluster.values():\n",
    "            decor_l.append(v)\n",
    "        \n",
    "        self.labels_= self.clustertolabels(decor_l)\n",
    "        return self.labels_\n",
    "\n",
    "    def clustertolabels(self,clusters):\n",
    "        # Method takes the cluster and label to the data points\n",
    "        ln = sum([len(c) for c in clusters])\n",
    "        labels = np.zeros(ln,dtype = np.int)\n",
    "        ind = -1\n",
    "        for c in clusters:\n",
    "            ind+=1\n",
    "            for i in c:\n",
    "                labels[i] = ind # Assign current cluster index as label \n",
    "        return labels\n",
    "\n",
    "\n",
    "    def d_matrix(self,data):\n",
    "        # Compute distance matrix\n",
    "        n=data.shape[0]  \n",
    "        d=np.empty(shape=[n,n]) \n",
    "        d.fill(np.inf)  \n",
    "        for i in range(n-1):\n",
    "            for j in range(i+1,n):\n",
    "                d[i,j]=distance(data[i],data[j]) \n",
    "        return d\n",
    "\n",
    "    \n",
    "    def get_initial_cluster(self,n):\n",
    "        # initialize cluster, with each points being its own cluster\n",
    "        c={}\n",
    "        for i in range(n):\n",
    "            c[i]={i}   \n",
    "        return c\n",
    "\n",
    "   \n",
    "    def update_d(self,d,p,q,t_set,linkage):\n",
    "        # Update distance matrix after merging clusters p and q using linkage method\n",
    "        for i in t_set: \n",
    "            u,v=min(i,p),max(i,p) \n",
    "            w,x=min(i,q),max(i,q)\n",
    "            if(linkage==\"complete\"):\n",
    "                t=max(d[u,v],d[w,x])\n",
    "            elif(linkage==\"average\"):\n",
    "                t=(d[u,v]+d[w,x])/2\n",
    "            else:     \n",
    "                t=min(d[u,v],d[w,x])\n",
    "        \n",
    "            d[u,v]=t\n",
    "            d[w,x]=t\n",
    "            \n",
    "        m_pq=max(p,q)\n",
    "        d[m_pq,:]=np.inf\n",
    "        d[:,m_pq]=np.inf\n",
    "        return d\n",
    "\n",
    "\n",
    "    def update_cluster(self,c,p,q):\n",
    "        # Update cluster after merging p and q\n",
    "        i=c.pop(max(p,q)) \n",
    "        m=min(p,q)\n",
    "        c[m]=c[m].union(i) # Merge two clusters by taking union of their sets of data points\n",
    "        return c\n",
    "    \n",
    "def distance(pt1,pt2):\n",
    "    # Compute the Euclidean distance between two points\n",
    "        if(len(pt1)!=len(pt2)):\n",
    "            print(\"Dimensions of the points are not equal\")\n",
    "            return  \n",
    "        dim=len(pt1)  \n",
    "        s=0\n",
    "        for i in range(dim):\n",
    "            s+=(pt1[i]-pt2[i])**2 \n",
    "        dist=np.sqrt(s)  \n",
    "        return dist"
   ]
  },
  {
   "cell_type": "markdown",
   "metadata": {
    "id": "f87TS7hdqfue"
   },
   "source": [
    "# KNN"
   ]
  },
  {
   "cell_type": "code",
   "execution_count": 3,
   "metadata": {
    "id": "woHg-NyV1dZs"
   },
   "outputs": [],
   "source": [
    "def dist_cartesian(sample, inputs):\n",
    "    #calculate cartesian distance between given set of samples and inpouts\n",
    "    diff = sample - inputs\n",
    "    sum_pow = np.sum(diff**2, axis=1)\n",
    "    return sum_pow**0.5\n",
    "    \n",
    "def lbl_classify(k, sorted_labels):\n",
    "    # Classify a point based on majority class labels amoung its k nearest neighbours\n",
    "    k_neighbors = sorted_labels[:k]\n",
    "    target = np.unique(k_neighbors)\n",
    "    count = []\n",
    "    for i in target:\n",
    "        x = np.count_nonzero(k_neighbors == i)\n",
    "        count.append(x)\n",
    "    return target[np.argmax(count)]\n",
    "\n",
    "def KNN_classification(sample, k, X, y):\n",
    "    \"\"\"\n",
    "    sample: the point to be classified\n",
    "    k: k numbers of neighbours\n",
    "    X: the input dataset\n",
    "    y: class label for input dataset\n",
    "    \"\"\"\n",
    "    # Perform KNN classification for given sample point\n",
    "    labels = list(y)\n",
    "    inputs = list(X)\n",
    "    cart_distance = dist_cartesian(sample, inputs)\n",
    "    labeled_cart = np.vstack((cart_distance, labels))\n",
    "    sorted_cart = labeled_cart.T[labeled_cart.T[:, 0].argsort()] #Transpose and sort by distance\n",
    "    sorted_labels = sorted_cart.T[1]\n",
    "    return lbl_classify(k, sorted_labels)\n",
    "\n",
    "def accuracy_metric(actual, predicted):\n",
    "    # Calculate accuracy of classification\n",
    "    correct = 0\n",
    "    for i in range(len(actual)):\n",
    "        if actual[i] == predicted[i]:\n",
    "            correct += 1\n",
    "    return correct / float(len(actual))"
   ]
  },
  {
   "cell_type": "markdown",
   "metadata": {
    "id": "RyZXe1_H1kAk"
   },
   "source": [
    "# K fold"
   ]
  },
  {
   "cell_type": "code",
   "execution_count": 4,
   "metadata": {
    "id": "A8_z4Okz1f2U"
   },
   "outputs": [],
   "source": [
    "from random import randrange\n",
    "def splits_CV(dataset_KNN, folds):\n",
    "    # Split input dataset into fold number of equally sized subset\n",
    "    dataset_KNN_split = []\n",
    "    df_copy = dataset_KNN\n",
    "    fold_size = int(df_copy.shape[0] / folds)\n",
    "    for i in range(folds):\n",
    "        fold = []\n",
    "        while len(fold) < fold_size:\n",
    "            r = randrange(df_copy.shape[0]) \n",
    "            index = df_copy.index[r]\n",
    "            fold.append(df_copy.loc[index].values.tolist())\n",
    "            df_copy = df_copy.drop(index) # Remove the row at index from df_copy to avoide selecting again\n",
    "        dataset_KNN_split.append(np.asarray(fold))\n",
    "    return dataset_KNN_split\n"
   ]
  },
  {
   "cell_type": "code",
   "execution_count": 5,
   "metadata": {
    "id": "SJKYVjNv1s9G"
   },
   "outputs": [],
   "source": [
    "def k_Fold(dataset_KNN, f, k):\n",
    "    # Perform k-fold cross validation to evaluate performance of KNN\n",
    "    data=splits_CV(dataset_KNN,f)\n",
    "    result=[] # Store accuracy score for each fold\n",
    "    for i in range(f):\n",
    "        r = list(range(f))\n",
    "        r.pop(i) # Remove current fold from index as test set\n",
    "        for j in r :\n",
    "            if j == r[0]:\n",
    "                cv = data[j]\n",
    "            else:    \n",
    "                cv=np.concatenate((cv,data[j]), axis=0) # concatenate fold index with cv\n",
    "  \n",
    "        predictions = []\n",
    "        for sample in data[i][:,:-1]: # Exclude last column which is true label\n",
    "            prediction_1 = KNN_classification(sample, k, cv[:,:-1], cv[:,-1]) # cv[:,:-1] training features, cv[:,-1] training set labels\n",
    "            predictions.append(prediction_1)\n",
    "        acc = accuracy_metric(data[i][:,-1], predictions)   \n",
    "        result.append(acc) \n",
    "    return result # Classification accuracy for each fold"
   ]
  },
  {
   "cell_type": "code",
   "execution_count": 6,
   "metadata": {
    "id": "bHDFRt2j1wLC"
   },
   "outputs": [],
   "source": [
    "def dataset_KNN(df, n, linkage):\n",
    "    # Prepare input dataset for KNN classifier\n",
    "    df = df.drop(\"target\", axis=1) # Remove target column, only need of features column\n",
    "    df = df.sample(frac=1).reset_index(drop = True) # shuffle datafram to avid bais in order\n",
    "\n",
    "    train_set = df.iloc[:170, :].reset_index(drop = True)\n",
    "    test_set = df.iloc[170:, :].reset_index(drop = True)\n",
    "\n",
    "    clustering = AgglomerativeClustering(n_clusters=n, linkage=linkage)\n",
    "    pred_clusters = clustering.fit_predict(train_set.values)\n",
    "    \n",
    "    train_set['labels'] = pred_clusters # add cluster labels to training set\n",
    "    \n",
    "    for i in range(n):\n",
    "        indexes = np.where(train_set['labels'] == i) # Find index of samples in train set that belongs to current cluster\n",
    "        df_i = train_set.iloc[indexes[0], :-1].reset_index(drop = True) #Create new datafram containing only samples in the current cluster\n",
    "        centroid = list(df_i.mean()) # calculate centroid of current my taking mean of each features in df_i\n",
    "        dataset_KNN = train_set.iloc[:,:-1]\n",
    "        column_name = \"cluster_feature_\" + str(i)\n",
    "        #distance of datapoints \n",
    "        train_set[column_name] = [np.sum(np.square(row-centroid)) for row in dataset_KNN.values]\n",
    "        #min max scaling\n",
    "        train_set[column_name] = train_set[column_name]/train_set[column_name].max()\n",
    "        test_set[column_name] = [np.sum(np.square(row-centroid)) for row in test_set.values]\n",
    "        test_set[column_name] = test_set[column_name]/test_set[column_name].max()\n",
    "    \n",
    "    train_set['labels'] = train_set.pop('labels')\n",
    "    #return modified train and test set\n",
    "    return train_set, test_set\n",
    "  "
   ]
  },
  {
   "cell_type": "code",
   "execution_count": 7,
   "metadata": {
    "id": "tTH0bMNw1yZL"
   },
   "outputs": [],
   "source": [
    "df = pd.read_csv(\"Seed_Data.csv\")"
   ]
  },
  {
   "cell_type": "code",
   "execution_count": 8,
   "metadata": {
    "colab": {
     "base_uri": "https://localhost:8080/",
     "height": 206
    },
    "id": "ksN3AhcfbqNA",
    "outputId": "db8fa0eb-1f4f-410f-c215-36ff770150f1"
   },
   "outputs": [
    {
     "data": {
      "text/html": [
       "<div>\n",
       "<style scoped>\n",
       "    .dataframe tbody tr th:only-of-type {\n",
       "        vertical-align: middle;\n",
       "    }\n",
       "\n",
       "    .dataframe tbody tr th {\n",
       "        vertical-align: top;\n",
       "    }\n",
       "\n",
       "    .dataframe thead th {\n",
       "        text-align: right;\n",
       "    }\n",
       "</style>\n",
       "<table border=\"1\" class=\"dataframe\">\n",
       "  <thead>\n",
       "    <tr style=\"text-align: right;\">\n",
       "      <th></th>\n",
       "      <th>A</th>\n",
       "      <th>P</th>\n",
       "      <th>C</th>\n",
       "      <th>LK</th>\n",
       "      <th>WK</th>\n",
       "      <th>A_Coef</th>\n",
       "      <th>LKG</th>\n",
       "      <th>target</th>\n",
       "    </tr>\n",
       "  </thead>\n",
       "  <tbody>\n",
       "    <tr>\n",
       "      <th>0</th>\n",
       "      <td>15.26</td>\n",
       "      <td>14.84</td>\n",
       "      <td>0.8710</td>\n",
       "      <td>5.763</td>\n",
       "      <td>3.312</td>\n",
       "      <td>2.221</td>\n",
       "      <td>5.220</td>\n",
       "      <td>0</td>\n",
       "    </tr>\n",
       "    <tr>\n",
       "      <th>1</th>\n",
       "      <td>14.88</td>\n",
       "      <td>14.57</td>\n",
       "      <td>0.8811</td>\n",
       "      <td>5.554</td>\n",
       "      <td>3.333</td>\n",
       "      <td>1.018</td>\n",
       "      <td>4.956</td>\n",
       "      <td>0</td>\n",
       "    </tr>\n",
       "    <tr>\n",
       "      <th>2</th>\n",
       "      <td>14.29</td>\n",
       "      <td>14.09</td>\n",
       "      <td>0.9050</td>\n",
       "      <td>5.291</td>\n",
       "      <td>3.337</td>\n",
       "      <td>2.699</td>\n",
       "      <td>4.825</td>\n",
       "      <td>0</td>\n",
       "    </tr>\n",
       "    <tr>\n",
       "      <th>3</th>\n",
       "      <td>13.84</td>\n",
       "      <td>13.94</td>\n",
       "      <td>0.8955</td>\n",
       "      <td>5.324</td>\n",
       "      <td>3.379</td>\n",
       "      <td>2.259</td>\n",
       "      <td>4.805</td>\n",
       "      <td>0</td>\n",
       "    </tr>\n",
       "    <tr>\n",
       "      <th>4</th>\n",
       "      <td>16.14</td>\n",
       "      <td>14.99</td>\n",
       "      <td>0.9034</td>\n",
       "      <td>5.658</td>\n",
       "      <td>3.562</td>\n",
       "      <td>1.355</td>\n",
       "      <td>5.175</td>\n",
       "      <td>0</td>\n",
       "    </tr>\n",
       "  </tbody>\n",
       "</table>\n",
       "</div>"
      ],
      "text/plain": [
       "       A      P       C     LK     WK  A_Coef    LKG  target\n",
       "0  15.26  14.84  0.8710  5.763  3.312   2.221  5.220       0\n",
       "1  14.88  14.57  0.8811  5.554  3.333   1.018  4.956       0\n",
       "2  14.29  14.09  0.9050  5.291  3.337   2.699  4.825       0\n",
       "3  13.84  13.94  0.8955  5.324  3.379   2.259  4.805       0\n",
       "4  16.14  14.99  0.9034  5.658  3.562   1.355  5.175       0"
      ]
     },
     "execution_count": 8,
     "metadata": {},
     "output_type": "execute_result"
    }
   ],
   "source": [
    "df.head()"
   ]
  },
  {
   "cell_type": "code",
   "execution_count": 9,
   "metadata": {
    "id": "gUmfApJX10Ws"
   },
   "outputs": [],
   "source": [
    "'''\n",
    "numbers of clusters\n",
    "number of neighbours\n",
    "linkages(single, complete, average)\n",
    "'''\n",
    "n_clusters = [3,4,5,6,7]\n",
    "knn = [3,5,7,9,11] \n",
    "linkages = ['single', 'complete', 'average']\n",
    "Accuracy_linkage = []"
   ]
  },
  {
   "cell_type": "code",
   "execution_count": 10,
   "metadata": {
    "colab": {
     "base_uri": "https://localhost:8080/"
    },
    "id": "HWIGCO5518qG",
    "outputId": "4aa95842-57f2-4d49-b156-1bc5810e871f"
   },
   "outputs": [
    {
     "name": "stdout",
     "output_type": "stream",
     "text": [
      "S̲c̲e̲n̲a̲r̲i̲o̲ ̲f̲o̲r̲ ̲s̲i̲n̲g̲l̲e̲ ̲L̲i̲n̲k̲a̲g̲e̲ ̲:̲\n",
      "\n",
      "No of clusters :3\n",
      "Accuracy for 3 clusters using 3 nearest data points: 0.9880952380952381\n"
     ]
    },
    {
     "name": "stderr",
     "output_type": "stream",
     "text": [
      "C:\\Users\\nmeet\\AppData\\Local\\Temp\\ipykernel_12252\\1254951517.py:29: DeprecationWarning: `np.int` is a deprecated alias for the builtin `int`. To silence this warning, use `int` by itself. Doing this will not modify any behavior and is safe. When replacing `np.int`, you may wish to use e.g. `np.int64` or `np.int32` to specify the precision. If you wish to review your current use, check the release note link for additional information.\n",
      "Deprecated in NumPy 1.20; for more details and guidance: https://numpy.org/devdocs/release/1.20.0-notes.html#deprecations\n",
      "  labels = np.zeros(ln,dtype = np.int)\n"
     ]
    },
    {
     "name": "stdout",
     "output_type": "stream",
     "text": [
      "Accuracy for 3 clusters using 5 nearest data points: 0.9880952380952381\n",
      "Accuracy for 3 clusters using 7 nearest data points: 0.9761904761904762\n",
      "Accuracy for 3 clusters using 9 nearest data points: 0.9583333333333335\n",
      "Accuracy for 3 clusters using 11 nearest data points: 0.9583333333333335\n",
      "Accuracy : 97.3809523809524 %   \n",
      "No of clusters :4\n",
      "Accuracy for 4 clusters using 3 nearest data points: 0.9821428571428572\n"
     ]
    },
    {
     "name": "stderr",
     "output_type": "stream",
     "text": [
      "C:\\Users\\nmeet\\AppData\\Local\\Temp\\ipykernel_12252\\1254951517.py:29: DeprecationWarning: `np.int` is a deprecated alias for the builtin `int`. To silence this warning, use `int` by itself. Doing this will not modify any behavior and is safe. When replacing `np.int`, you may wish to use e.g. `np.int64` or `np.int32` to specify the precision. If you wish to review your current use, check the release note link for additional information.\n",
      "Deprecated in NumPy 1.20; for more details and guidance: https://numpy.org/devdocs/release/1.20.0-notes.html#deprecations\n",
      "  labels = np.zeros(ln,dtype = np.int)\n"
     ]
    },
    {
     "name": "stdout",
     "output_type": "stream",
     "text": [
      "Accuracy for 4 clusters using 5 nearest data points: 0.9821428571428572\n",
      "Accuracy for 4 clusters using 7 nearest data points: 0.9702380952380952\n",
      "Accuracy for 4 clusters using 9 nearest data points: 0.9523809523809524\n",
      "Accuracy for 4 clusters using 11 nearest data points: 0.9523809523809524\n",
      "Accuracy : 96.78571428571429 %   \n",
      "No of clusters :5\n",
      "Accuracy for 5 clusters using 3 nearest data points: 0.9761904761904762\n"
     ]
    },
    {
     "name": "stderr",
     "output_type": "stream",
     "text": [
      "C:\\Users\\nmeet\\AppData\\Local\\Temp\\ipykernel_12252\\1254951517.py:29: DeprecationWarning: `np.int` is a deprecated alias for the builtin `int`. To silence this warning, use `int` by itself. Doing this will not modify any behavior and is safe. When replacing `np.int`, you may wish to use e.g. `np.int64` or `np.int32` to specify the precision. If you wish to review your current use, check the release note link for additional information.\n",
      "Deprecated in NumPy 1.20; for more details and guidance: https://numpy.org/devdocs/release/1.20.0-notes.html#deprecations\n",
      "  labels = np.zeros(ln,dtype = np.int)\n"
     ]
    },
    {
     "name": "stdout",
     "output_type": "stream",
     "text": [
      "Accuracy for 5 clusters using 5 nearest data points: 0.9821428571428572\n",
      "Accuracy for 5 clusters using 7 nearest data points: 0.9702380952380952\n",
      "Accuracy for 5 clusters using 9 nearest data points: 0.9464285714285715\n",
      "Accuracy for 5 clusters using 11 nearest data points: 0.9523809523809524\n",
      "Accuracy : 96.54761904761905 %   \n",
      "No of clusters :6\n",
      "Accuracy for 6 clusters using 3 nearest data points: 0.9642857142857144\n"
     ]
    },
    {
     "name": "stderr",
     "output_type": "stream",
     "text": [
      "C:\\Users\\nmeet\\AppData\\Local\\Temp\\ipykernel_12252\\1254951517.py:29: DeprecationWarning: `np.int` is a deprecated alias for the builtin `int`. To silence this warning, use `int` by itself. Doing this will not modify any behavior and is safe. When replacing `np.int`, you may wish to use e.g. `np.int64` or `np.int32` to specify the precision. If you wish to review your current use, check the release note link for additional information.\n",
      "Deprecated in NumPy 1.20; for more details and guidance: https://numpy.org/devdocs/release/1.20.0-notes.html#deprecations\n",
      "  labels = np.zeros(ln,dtype = np.int)\n"
     ]
    },
    {
     "name": "stdout",
     "output_type": "stream",
     "text": [
      "Accuracy for 6 clusters using 5 nearest data points: 0.9642857142857143\n",
      "Accuracy for 6 clusters using 7 nearest data points: 0.9642857142857144\n",
      "Accuracy for 6 clusters using 9 nearest data points: 0.9345238095238095\n",
      "Accuracy for 6 clusters using 11 nearest data points: 0.9345238095238095\n",
      "Accuracy : 95.23809523809523 %   \n",
      "No of clusters :7\n",
      "Accuracy for 7 clusters using 3 nearest data points: 0.9642857142857143\n"
     ]
    },
    {
     "name": "stderr",
     "output_type": "stream",
     "text": [
      "C:\\Users\\nmeet\\AppData\\Local\\Temp\\ipykernel_12252\\1254951517.py:29: DeprecationWarning: `np.int` is a deprecated alias for the builtin `int`. To silence this warning, use `int` by itself. Doing this will not modify any behavior and is safe. When replacing `np.int`, you may wish to use e.g. `np.int64` or `np.int32` to specify the precision. If you wish to review your current use, check the release note link for additional information.\n",
      "Deprecated in NumPy 1.20; for more details and guidance: https://numpy.org/devdocs/release/1.20.0-notes.html#deprecations\n",
      "  labels = np.zeros(ln,dtype = np.int)\n"
     ]
    },
    {
     "name": "stdout",
     "output_type": "stream",
     "text": [
      "Accuracy for 7 clusters using 5 nearest data points: 0.9642857142857143\n",
      "Accuracy for 7 clusters using 7 nearest data points: 0.9464285714285715\n",
      "Accuracy for 7 clusters using 9 nearest data points: 0.9345238095238095\n",
      "Accuracy for 7 clusters using 11 nearest data points: 0.9345238095238095\n",
      "Accuracy : 94.88095238095238 %   \n",
      "Best scenario for no of clusters : 3 \n",
      "\n",
      "\n",
      "S̲c̲e̲n̲a̲r̲i̲o̲ ̲f̲o̲r̲ ̲c̲o̲m̲p̲l̲e̲t̲e̲ ̲L̲i̲n̲k̲a̲g̲e̲ ̲:̲\n",
      "\n"
     ]
    },
    {
     "name": "stderr",
     "output_type": "stream",
     "text": [
      "C:\\Users\\nmeet\\AppData\\Local\\Temp\\ipykernel_12252\\1254951517.py:29: DeprecationWarning: `np.int` is a deprecated alias for the builtin `int`. To silence this warning, use `int` by itself. Doing this will not modify any behavior and is safe. When replacing `np.int`, you may wish to use e.g. `np.int64` or `np.int32` to specify the precision. If you wish to review your current use, check the release note link for additional information.\n",
      "Deprecated in NumPy 1.20; for more details and guidance: https://numpy.org/devdocs/release/1.20.0-notes.html#deprecations\n",
      "  labels = np.zeros(ln,dtype = np.int)\n"
     ]
    },
    {
     "name": "stdout",
     "output_type": "stream",
     "text": [
      "No of clusters :3\n",
      "Accuracy for 3 clusters using 3 nearest data points: 0.9821428571428572\n",
      "Accuracy for 3 clusters using 5 nearest data points: 0.9761904761904762\n",
      "Accuracy for 3 clusters using 7 nearest data points: 0.9642857142857143\n",
      "Accuracy for 3 clusters using 9 nearest data points: 0.9523809523809524\n",
      "Accuracy for 3 clusters using 11 nearest data points: 0.9464285714285714\n",
      "Accuracy : 96.42857142857144 %   \n"
     ]
    },
    {
     "name": "stderr",
     "output_type": "stream",
     "text": [
      "C:\\Users\\nmeet\\AppData\\Local\\Temp\\ipykernel_12252\\1254951517.py:29: DeprecationWarning: `np.int` is a deprecated alias for the builtin `int`. To silence this warning, use `int` by itself. Doing this will not modify any behavior and is safe. When replacing `np.int`, you may wish to use e.g. `np.int64` or `np.int32` to specify the precision. If you wish to review your current use, check the release note link for additional information.\n",
      "Deprecated in NumPy 1.20; for more details and guidance: https://numpy.org/devdocs/release/1.20.0-notes.html#deprecations\n",
      "  labels = np.zeros(ln,dtype = np.int)\n"
     ]
    },
    {
     "name": "stdout",
     "output_type": "stream",
     "text": [
      "No of clusters :4\n",
      "Accuracy for 4 clusters using 3 nearest data points: 0.9702380952380952\n",
      "Accuracy for 4 clusters using 5 nearest data points: 0.9761904761904763\n",
      "Accuracy for 4 clusters using 7 nearest data points: 0.9702380952380952\n",
      "Accuracy for 4 clusters using 9 nearest data points: 0.9583333333333334\n",
      "Accuracy for 4 clusters using 11 nearest data points: 0.9583333333333334\n",
      "Accuracy : 96.66666666666669 %   \n"
     ]
    },
    {
     "name": "stderr",
     "output_type": "stream",
     "text": [
      "C:\\Users\\nmeet\\AppData\\Local\\Temp\\ipykernel_12252\\1254951517.py:29: DeprecationWarning: `np.int` is a deprecated alias for the builtin `int`. To silence this warning, use `int` by itself. Doing this will not modify any behavior and is safe. When replacing `np.int`, you may wish to use e.g. `np.int64` or `np.int32` to specify the precision. If you wish to review your current use, check the release note link for additional information.\n",
      "Deprecated in NumPy 1.20; for more details and guidance: https://numpy.org/devdocs/release/1.20.0-notes.html#deprecations\n",
      "  labels = np.zeros(ln,dtype = np.int)\n"
     ]
    },
    {
     "name": "stdout",
     "output_type": "stream",
     "text": [
      "No of clusters :5\n",
      "Accuracy for 5 clusters using 3 nearest data points: 0.9642857142857143\n",
      "Accuracy for 5 clusters using 5 nearest data points: 0.9404761904761906\n",
      "Accuracy for 5 clusters using 7 nearest data points: 0.9166666666666666\n",
      "Accuracy for 5 clusters using 9 nearest data points: 0.9047619047619048\n",
      "Accuracy for 5 clusters using 11 nearest data points: 0.8809523809523808\n",
      "Accuracy : 92.14285714285714 %   \n"
     ]
    },
    {
     "name": "stderr",
     "output_type": "stream",
     "text": [
      "C:\\Users\\nmeet\\AppData\\Local\\Temp\\ipykernel_12252\\1254951517.py:29: DeprecationWarning: `np.int` is a deprecated alias for the builtin `int`. To silence this warning, use `int` by itself. Doing this will not modify any behavior and is safe. When replacing `np.int`, you may wish to use e.g. `np.int64` or `np.int32` to specify the precision. If you wish to review your current use, check the release note link for additional information.\n",
      "Deprecated in NumPy 1.20; for more details and guidance: https://numpy.org/devdocs/release/1.20.0-notes.html#deprecations\n",
      "  labels = np.zeros(ln,dtype = np.int)\n"
     ]
    },
    {
     "name": "stdout",
     "output_type": "stream",
     "text": [
      "No of clusters :6\n",
      "Accuracy for 6 clusters using 3 nearest data points: 0.9583333333333334\n",
      "Accuracy for 6 clusters using 5 nearest data points: 0.9642857142857144\n",
      "Accuracy for 6 clusters using 7 nearest data points: 0.9345238095238095\n",
      "Accuracy for 6 clusters using 9 nearest data points: 0.8988095238095238\n",
      "Accuracy for 6 clusters using 11 nearest data points: 0.8988095238095237\n",
      "Accuracy : 93.0952380952381 %   \n"
     ]
    },
    {
     "name": "stderr",
     "output_type": "stream",
     "text": [
      "C:\\Users\\nmeet\\AppData\\Local\\Temp\\ipykernel_12252\\1254951517.py:29: DeprecationWarning: `np.int` is a deprecated alias for the builtin `int`. To silence this warning, use `int` by itself. Doing this will not modify any behavior and is safe. When replacing `np.int`, you may wish to use e.g. `np.int64` or `np.int32` to specify the precision. If you wish to review your current use, check the release note link for additional information.\n",
      "Deprecated in NumPy 1.20; for more details and guidance: https://numpy.org/devdocs/release/1.20.0-notes.html#deprecations\n",
      "  labels = np.zeros(ln,dtype = np.int)\n"
     ]
    },
    {
     "name": "stdout",
     "output_type": "stream",
     "text": [
      "No of clusters :7\n",
      "Accuracy for 7 clusters using 3 nearest data points: 0.9404761904761906\n",
      "Accuracy for 7 clusters using 5 nearest data points: 0.9047619047619048\n",
      "Accuracy for 7 clusters using 7 nearest data points: 0.8988095238095238\n",
      "Accuracy for 7 clusters using 9 nearest data points: 0.8869047619047619\n",
      "Accuracy for 7 clusters using 11 nearest data points: 0.857142857142857\n",
      "Accuracy : 89.76190476190476 %   \n",
      "Best scenario for no of clusters : 4 \n",
      "\n",
      "\n",
      "S̲c̲e̲n̲a̲r̲i̲o̲ ̲f̲o̲r̲ ̲a̲v̲e̲r̲a̲g̲e̲ ̲L̲i̲n̲k̲a̲g̲e̲ ̲:̲\n",
      "\n",
      "No of clusters :3\n"
     ]
    },
    {
     "name": "stderr",
     "output_type": "stream",
     "text": [
      "C:\\Users\\nmeet\\AppData\\Local\\Temp\\ipykernel_12252\\1254951517.py:29: DeprecationWarning: `np.int` is a deprecated alias for the builtin `int`. To silence this warning, use `int` by itself. Doing this will not modify any behavior and is safe. When replacing `np.int`, you may wish to use e.g. `np.int64` or `np.int32` to specify the precision. If you wish to review your current use, check the release note link for additional information.\n",
      "Deprecated in NumPy 1.20; for more details and guidance: https://numpy.org/devdocs/release/1.20.0-notes.html#deprecations\n",
      "  labels = np.zeros(ln,dtype = np.int)\n"
     ]
    },
    {
     "name": "stdout",
     "output_type": "stream",
     "text": [
      "Accuracy for 3 clusters using 3 nearest data points: 0.9880952380952381\n",
      "Accuracy for 3 clusters using 5 nearest data points: 0.9940476190476191\n",
      "Accuracy for 3 clusters using 7 nearest data points: 0.9940476190476191\n",
      "Accuracy for 3 clusters using 9 nearest data points: 0.9940476190476191\n",
      "Accuracy for 3 clusters using 11 nearest data points: 0.9702380952380953\n",
      "Accuracy : 98.80952380952381 %   \n",
      "No of clusters :4\n"
     ]
    },
    {
     "name": "stderr",
     "output_type": "stream",
     "text": [
      "C:\\Users\\nmeet\\AppData\\Local\\Temp\\ipykernel_12252\\1254951517.py:29: DeprecationWarning: `np.int` is a deprecated alias for the builtin `int`. To silence this warning, use `int` by itself. Doing this will not modify any behavior and is safe. When replacing `np.int`, you may wish to use e.g. `np.int64` or `np.int32` to specify the precision. If you wish to review your current use, check the release note link for additional information.\n",
      "Deprecated in NumPy 1.20; for more details and guidance: https://numpy.org/devdocs/release/1.20.0-notes.html#deprecations\n",
      "  labels = np.zeros(ln,dtype = np.int)\n"
     ]
    },
    {
     "name": "stdout",
     "output_type": "stream",
     "text": [
      "Accuracy for 4 clusters using 3 nearest data points: 0.9523809523809524\n",
      "Accuracy for 4 clusters using 5 nearest data points: 0.9226190476190476\n",
      "Accuracy for 4 clusters using 7 nearest data points: 0.9464285714285715\n",
      "Accuracy for 4 clusters using 9 nearest data points: 0.9404761904761905\n",
      "Accuracy for 4 clusters using 11 nearest data points: 0.898809523809524\n",
      "Accuracy : 93.21428571428572 %   \n",
      "No of clusters :5\n"
     ]
    },
    {
     "name": "stderr",
     "output_type": "stream",
     "text": [
      "C:\\Users\\nmeet\\AppData\\Local\\Temp\\ipykernel_12252\\1254951517.py:29: DeprecationWarning: `np.int` is a deprecated alias for the builtin `int`. To silence this warning, use `int` by itself. Doing this will not modify any behavior and is safe. When replacing `np.int`, you may wish to use e.g. `np.int64` or `np.int32` to specify the precision. If you wish to review your current use, check the release note link for additional information.\n",
      "Deprecated in NumPy 1.20; for more details and guidance: https://numpy.org/devdocs/release/1.20.0-notes.html#deprecations\n",
      "  labels = np.zeros(ln,dtype = np.int)\n"
     ]
    },
    {
     "name": "stdout",
     "output_type": "stream",
     "text": [
      "Accuracy for 5 clusters using 3 nearest data points: 1.0\n",
      "Accuracy for 5 clusters using 5 nearest data points: 0.9880952380952381\n",
      "Accuracy for 5 clusters using 7 nearest data points: 0.9702380952380953\n",
      "Accuracy for 5 clusters using 9 nearest data points: 0.9404761904761905\n",
      "Accuracy for 5 clusters using 11 nearest data points: 0.9404761904761906\n",
      "Accuracy : 96.78571428571429 %   \n",
      "No of clusters :6\n",
      "Accuracy for 6 clusters using 3 nearest data points: 0.9523809523809523\n"
     ]
    },
    {
     "name": "stderr",
     "output_type": "stream",
     "text": [
      "C:\\Users\\nmeet\\AppData\\Local\\Temp\\ipykernel_12252\\1254951517.py:29: DeprecationWarning: `np.int` is a deprecated alias for the builtin `int`. To silence this warning, use `int` by itself. Doing this will not modify any behavior and is safe. When replacing `np.int`, you may wish to use e.g. `np.int64` or `np.int32` to specify the precision. If you wish to review your current use, check the release note link for additional information.\n",
      "Deprecated in NumPy 1.20; for more details and guidance: https://numpy.org/devdocs/release/1.20.0-notes.html#deprecations\n",
      "  labels = np.zeros(ln,dtype = np.int)\n"
     ]
    },
    {
     "name": "stdout",
     "output_type": "stream",
     "text": [
      "Accuracy for 6 clusters using 5 nearest data points: 0.9642857142857143\n",
      "Accuracy for 6 clusters using 7 nearest data points: 0.9345238095238095\n",
      "Accuracy for 6 clusters using 9 nearest data points: 0.9583333333333334\n",
      "Accuracy for 6 clusters using 11 nearest data points: 0.9464285714285715\n",
      "Accuracy : 95.11904761904762 %   \n",
      "No of clusters :7\n",
      "Accuracy for 7 clusters using 3 nearest data points: 0.9642857142857143\n"
     ]
    },
    {
     "name": "stderr",
     "output_type": "stream",
     "text": [
      "C:\\Users\\nmeet\\AppData\\Local\\Temp\\ipykernel_12252\\1254951517.py:29: DeprecationWarning: `np.int` is a deprecated alias for the builtin `int`. To silence this warning, use `int` by itself. Doing this will not modify any behavior and is safe. When replacing `np.int`, you may wish to use e.g. `np.int64` or `np.int32` to specify the precision. If you wish to review your current use, check the release note link for additional information.\n",
      "Deprecated in NumPy 1.20; for more details and guidance: https://numpy.org/devdocs/release/1.20.0-notes.html#deprecations\n",
      "  labels = np.zeros(ln,dtype = np.int)\n"
     ]
    },
    {
     "name": "stdout",
     "output_type": "stream",
     "text": [
      "Accuracy for 7 clusters using 5 nearest data points: 0.9464285714285714\n",
      "Accuracy for 7 clusters using 7 nearest data points: 0.9523809523809524\n",
      "Accuracy for 7 clusters using 9 nearest data points: 0.9285714285714286\n",
      "Accuracy for 7 clusters using 11 nearest data points: 0.9285714285714286\n",
      "Accuracy : 94.40476190476191 %   \n",
      "Best scenario for no of clusters : 3 \n",
      "\n",
      "\n"
     ]
    }
   ],
   "source": [
    "for linkage in linkages:\n",
    "    print(\"\\u0332\".join(f\"Scenario for {linkage} Linkage :\\n\"))\n",
    "    Accuracy = []\n",
    "    for n in n_clusters:\n",
    "        \n",
    "        train_set, test_set = dataset_KNN(df, n, linkage)\n",
    "        #df - dataframe\n",
    "        #n - clusters\n",
    "        #linkage = single, complete, averagee\n",
    "        train_set.to_csv(\"train_set.csv\")\n",
    "        test_set.to_csv(\"test_set.csv\")\n",
    "        print(f\"No of clusters :{n}\")\n",
    "        acc_clusters = []\n",
    "        for k in knn:\n",
    "            result = k_Fold(train_set, 8, k) #fold accuracy for 8-fold cross validation\n",
    "            acc = sum(result)/len(result) #KNN accuracy based on  folds\n",
    "            print(f\"Accuracy for {n} clusters using {k} nearest data points: {acc}\")\n",
    "            acc_clusters.append(acc)\n",
    "        Accuracy.append(sum(acc_clusters)/len(acc_clusters)) #average cluster accuracy\n",
    "        acc = (sum(acc_clusters)/len(acc_clusters))*100 #percentage\n",
    "        print(f\"Accuracy : {acc} %   \") \n",
    "     \n",
    "    print(f\"Best scenario for no of clusters : {n_clusters[np.argmax(Accuracy)]} \\n\\n\") # for best case \n",
    "    Accuracy_linkage.append(max(Accuracy))\n",
    "    "
   ]
  },
  {
   "cell_type": "code",
   "execution_count": 11,
   "metadata": {
    "colab": {
     "base_uri": "https://localhost:8080/",
     "height": 270
    },
    "id": "2jAlyDA5bR45",
    "outputId": "499094d5-7967-4e62-d59b-2fe3354e82c0"
   },
   "outputs": [
    {
     "data": {
      "text/html": [
       "<div>\n",
       "<style scoped>\n",
       "    .dataframe tbody tr th:only-of-type {\n",
       "        vertical-align: middle;\n",
       "    }\n",
       "\n",
       "    .dataframe tbody tr th {\n",
       "        vertical-align: top;\n",
       "    }\n",
       "\n",
       "    .dataframe thead th {\n",
       "        text-align: right;\n",
       "    }\n",
       "</style>\n",
       "<table border=\"1\" class=\"dataframe\">\n",
       "  <thead>\n",
       "    <tr style=\"text-align: right;\">\n",
       "      <th></th>\n",
       "      <th>A</th>\n",
       "      <th>P</th>\n",
       "      <th>C</th>\n",
       "      <th>LK</th>\n",
       "      <th>WK</th>\n",
       "      <th>A_Coef</th>\n",
       "      <th>LKG</th>\n",
       "      <th>cluster_feature_0</th>\n",
       "      <th>cluster_feature_1</th>\n",
       "      <th>cluster_feature_2</th>\n",
       "      <th>cluster_feature_3</th>\n",
       "      <th>cluster_feature_4</th>\n",
       "      <th>cluster_feature_5</th>\n",
       "      <th>cluster_feature_6</th>\n",
       "      <th>labels</th>\n",
       "    </tr>\n",
       "  </thead>\n",
       "  <tbody>\n",
       "    <tr>\n",
       "      <th>0</th>\n",
       "      <td>18.17</td>\n",
       "      <td>16.26</td>\n",
       "      <td>0.8637</td>\n",
       "      <td>6.271</td>\n",
       "      <td>3.512</td>\n",
       "      <td>2.853</td>\n",
       "      <td>6.273</td>\n",
       "      <td>0.008466</td>\n",
       "      <td>0.385712</td>\n",
       "      <td>0.495419</td>\n",
       "      <td>0.355588</td>\n",
       "      <td>0.665801</td>\n",
       "      <td>0.480277</td>\n",
       "      <td>0.345570</td>\n",
       "      <td>0</td>\n",
       "    </tr>\n",
       "    <tr>\n",
       "      <th>1</th>\n",
       "      <td>11.35</td>\n",
       "      <td>13.12</td>\n",
       "      <td>0.8291</td>\n",
       "      <td>5.176</td>\n",
       "      <td>2.668</td>\n",
       "      <td>4.337</td>\n",
       "      <td>5.132</td>\n",
       "      <td>0.759720</td>\n",
       "      <td>0.008994</td>\n",
       "      <td>0.039452</td>\n",
       "      <td>0.313838</td>\n",
       "      <td>0.076476</td>\n",
       "      <td>0.859283</td>\n",
       "      <td>0.880877</td>\n",
       "      <td>1</td>\n",
       "    </tr>\n",
       "    <tr>\n",
       "      <th>2</th>\n",
       "      <td>13.22</td>\n",
       "      <td>13.84</td>\n",
       "      <td>0.8680</td>\n",
       "      <td>5.395</td>\n",
       "      <td>3.070</td>\n",
       "      <td>4.157</td>\n",
       "      <td>5.088</td>\n",
       "      <td>0.447116</td>\n",
       "      <td>0.027948</td>\n",
       "      <td>0.025301</td>\n",
       "      <td>0.097221</td>\n",
       "      <td>0.084817</td>\n",
       "      <td>0.413196</td>\n",
       "      <td>0.559389</td>\n",
       "      <td>2</td>\n",
       "    </tr>\n",
       "    <tr>\n",
       "      <th>3</th>\n",
       "      <td>15.11</td>\n",
       "      <td>14.54</td>\n",
       "      <td>0.8986</td>\n",
       "      <td>5.579</td>\n",
       "      <td>3.462</td>\n",
       "      <td>3.128</td>\n",
       "      <td>5.180</td>\n",
       "      <td>0.205342</td>\n",
       "      <td>0.121633</td>\n",
       "      <td>0.141458</td>\n",
       "      <td>0.006964</td>\n",
       "      <td>0.196581</td>\n",
       "      <td>0.154308</td>\n",
       "      <td>0.335935</td>\n",
       "      <td>3</td>\n",
       "    </tr>\n",
       "    <tr>\n",
       "      <th>4</th>\n",
       "      <td>11.49</td>\n",
       "      <td>13.22</td>\n",
       "      <td>0.8263</td>\n",
       "      <td>5.304</td>\n",
       "      <td>2.695</td>\n",
       "      <td>5.388</td>\n",
       "      <td>5.310</td>\n",
       "      <td>0.767923</td>\n",
       "      <td>0.096284</td>\n",
       "      <td>0.049101</td>\n",
       "      <td>0.322121</td>\n",
       "      <td>0.002738</td>\n",
       "      <td>0.599657</td>\n",
       "      <td>0.685220</td>\n",
       "      <td>4</td>\n",
       "    </tr>\n",
       "  </tbody>\n",
       "</table>\n",
       "</div>"
      ],
      "text/plain": [
       "       A      P       C     LK     WK  A_Coef    LKG  cluster_feature_0  \\\n",
       "0  18.17  16.26  0.8637  6.271  3.512   2.853  6.273           0.008466   \n",
       "1  11.35  13.12  0.8291  5.176  2.668   4.337  5.132           0.759720   \n",
       "2  13.22  13.84  0.8680  5.395  3.070   4.157  5.088           0.447116   \n",
       "3  15.11  14.54  0.8986  5.579  3.462   3.128  5.180           0.205342   \n",
       "4  11.49  13.22  0.8263  5.304  2.695   5.388  5.310           0.767923   \n",
       "\n",
       "   cluster_feature_1  cluster_feature_2  cluster_feature_3  cluster_feature_4  \\\n",
       "0           0.385712           0.495419           0.355588           0.665801   \n",
       "1           0.008994           0.039452           0.313838           0.076476   \n",
       "2           0.027948           0.025301           0.097221           0.084817   \n",
       "3           0.121633           0.141458           0.006964           0.196581   \n",
       "4           0.096284           0.049101           0.322121           0.002738   \n",
       "\n",
       "   cluster_feature_5  cluster_feature_6  labels  \n",
       "0           0.480277           0.345570       0  \n",
       "1           0.859283           0.880877       1  \n",
       "2           0.413196           0.559389       2  \n",
       "3           0.154308           0.335935       3  \n",
       "4           0.599657           0.685220       4  "
      ]
     },
     "execution_count": 11,
     "metadata": {},
     "output_type": "execute_result"
    }
   ],
   "source": [
    "train_set.head()"
   ]
  },
  {
   "cell_type": "code",
   "execution_count": 12,
   "metadata": {
    "colab": {
     "base_uri": "https://localhost:8080/",
     "height": 270
    },
    "id": "GXuwSI_kbd_p",
    "outputId": "d4b3925e-e9a4-4903-9668-6f0dd5f81f1a"
   },
   "outputs": [
    {
     "data": {
      "text/html": [
       "<div>\n",
       "<style scoped>\n",
       "    .dataframe tbody tr th:only-of-type {\n",
       "        vertical-align: middle;\n",
       "    }\n",
       "\n",
       "    .dataframe tbody tr th {\n",
       "        vertical-align: top;\n",
       "    }\n",
       "\n",
       "    .dataframe thead th {\n",
       "        text-align: right;\n",
       "    }\n",
       "</style>\n",
       "<table border=\"1\" class=\"dataframe\">\n",
       "  <thead>\n",
       "    <tr style=\"text-align: right;\">\n",
       "      <th></th>\n",
       "      <th>A</th>\n",
       "      <th>P</th>\n",
       "      <th>C</th>\n",
       "      <th>LK</th>\n",
       "      <th>WK</th>\n",
       "      <th>A_Coef</th>\n",
       "      <th>LKG</th>\n",
       "      <th>cluster_feature_0</th>\n",
       "      <th>cluster_feature_1</th>\n",
       "      <th>cluster_feature_2</th>\n",
       "      <th>cluster_feature_3</th>\n",
       "      <th>cluster_feature_4</th>\n",
       "      <th>cluster_feature_5</th>\n",
       "      <th>cluster_feature_6</th>\n",
       "    </tr>\n",
       "  </thead>\n",
       "  <tbody>\n",
       "    <tr>\n",
       "      <th>0</th>\n",
       "      <td>13.54</td>\n",
       "      <td>13.85</td>\n",
       "      <td>0.8871</td>\n",
       "      <td>5.348</td>\n",
       "      <td>3.156</td>\n",
       "      <td>2.587</td>\n",
       "      <td>5.178</td>\n",
       "      <td>0.414035</td>\n",
       "      <td>0.040169</td>\n",
       "      <td>0.140324</td>\n",
       "      <td>0.142864</td>\n",
       "      <td>0.202567</td>\n",
       "      <td>0.600609</td>\n",
       "      <td>0.716926</td>\n",
       "    </tr>\n",
       "    <tr>\n",
       "      <th>1</th>\n",
       "      <td>15.05</td>\n",
       "      <td>14.68</td>\n",
       "      <td>0.8779</td>\n",
       "      <td>5.712</td>\n",
       "      <td>3.328</td>\n",
       "      <td>2.129</td>\n",
       "      <td>5.360</td>\n",
       "      <td>0.217536</td>\n",
       "      <td>0.140817</td>\n",
       "      <td>0.251270</td>\n",
       "      <td>0.128796</td>\n",
       "      <td>0.321164</td>\n",
       "      <td>0.496828</td>\n",
       "      <td>0.581456</td>\n",
       "    </tr>\n",
       "    <tr>\n",
       "      <th>2</th>\n",
       "      <td>18.65</td>\n",
       "      <td>16.41</td>\n",
       "      <td>0.8698</td>\n",
       "      <td>6.285</td>\n",
       "      <td>3.594</td>\n",
       "      <td>4.391</td>\n",
       "      <td>6.102</td>\n",
       "      <td>0.027154</td>\n",
       "      <td>0.572784</td>\n",
       "      <td>0.569898</td>\n",
       "      <td>0.516746</td>\n",
       "      <td>0.645222</td>\n",
       "      <td>0.472349</td>\n",
       "      <td>0.306478</td>\n",
       "    </tr>\n",
       "    <tr>\n",
       "      <th>3</th>\n",
       "      <td>12.78</td>\n",
       "      <td>13.57</td>\n",
       "      <td>0.8716</td>\n",
       "      <td>5.262</td>\n",
       "      <td>3.026</td>\n",
       "      <td>1.176</td>\n",
       "      <td>4.782</td>\n",
       "      <td>0.567662</td>\n",
       "      <td>0.057496</td>\n",
       "      <td>0.236899</td>\n",
       "      <td>0.211487</td>\n",
       "      <td>0.238081</td>\n",
       "      <td>0.800388</td>\n",
       "      <td>0.884427</td>\n",
       "    </tr>\n",
       "    <tr>\n",
       "      <th>4</th>\n",
       "      <td>13.45</td>\n",
       "      <td>14.02</td>\n",
       "      <td>0.8604</td>\n",
       "      <td>5.516</td>\n",
       "      <td>3.065</td>\n",
       "      <td>3.531</td>\n",
       "      <td>5.097</td>\n",
       "      <td>0.419879</td>\n",
       "      <td>0.033876</td>\n",
       "      <td>0.088796</td>\n",
       "      <td>0.159130</td>\n",
       "      <td>0.171173</td>\n",
       "      <td>0.565506</td>\n",
       "      <td>0.683321</td>\n",
       "    </tr>\n",
       "  </tbody>\n",
       "</table>\n",
       "</div>"
      ],
      "text/plain": [
       "       A      P       C     LK     WK  A_Coef    LKG  cluster_feature_0  \\\n",
       "0  13.54  13.85  0.8871  5.348  3.156   2.587  5.178           0.414035   \n",
       "1  15.05  14.68  0.8779  5.712  3.328   2.129  5.360           0.217536   \n",
       "2  18.65  16.41  0.8698  6.285  3.594   4.391  6.102           0.027154   \n",
       "3  12.78  13.57  0.8716  5.262  3.026   1.176  4.782           0.567662   \n",
       "4  13.45  14.02  0.8604  5.516  3.065   3.531  5.097           0.419879   \n",
       "\n",
       "   cluster_feature_1  cluster_feature_2  cluster_feature_3  cluster_feature_4  \\\n",
       "0           0.040169           0.140324           0.142864           0.202567   \n",
       "1           0.140817           0.251270           0.128796           0.321164   \n",
       "2           0.572784           0.569898           0.516746           0.645222   \n",
       "3           0.057496           0.236899           0.211487           0.238081   \n",
       "4           0.033876           0.088796           0.159130           0.171173   \n",
       "\n",
       "   cluster_feature_5  cluster_feature_6  \n",
       "0           0.600609           0.716926  \n",
       "1           0.496828           0.581456  \n",
       "2           0.472349           0.306478  \n",
       "3           0.800388           0.884427  \n",
       "4           0.565506           0.683321  "
      ]
     },
     "execution_count": 12,
     "metadata": {},
     "output_type": "execute_result"
    }
   ],
   "source": [
    "test_set.head()"
   ]
  },
  {
   "cell_type": "markdown",
   "metadata": {
    "id": "9TwF-t-f2BAy"
   },
   "source": [
    "# Predictions on test_set"
   ]
  },
  {
   "cell_type": "code",
   "execution_count": 19,
   "metadata": {
    "colab": {
     "base_uri": "https://localhost:8080/"
    },
    "id": "rKHnhP5l2FbY",
    "outputId": "5ad536bd-4bcb-4548-b1ff-ae793a1a7c72"
   },
   "outputs": [
    {
     "name": "stdout",
     "output_type": "stream",
     "text": [
      "[2.0, 1.0, 1.0, 1.0, 1.0, 1.0, 0.0, 1.0, 1.0, 1.0, 1.0, 1.0, 1.0, 0.0, 2.0, 2.0, 1.0, 1.0, 2.0, 1.0, 2.0, 1.0, 0.0, 1.0, 2.0, 0.0, 2.0, 0.0, 1.0, 2.0, 2.0, 2.0, 1.0, 1.0, 2.0, 0.0, 2.0, 0.0, 1.0, 0.0]\n"
     ]
    },
    {
     "name": "stderr",
     "output_type": "stream",
     "text": [
      "C:\\Users\\nmeet\\AppData\\Local\\Temp\\ipykernel_12252\\1254951517.py:29: DeprecationWarning: `np.int` is a deprecated alias for the builtin `int`. To silence this warning, use `int` by itself. Doing this will not modify any behavior and is safe. When replacing `np.int`, you may wish to use e.g. `np.int64` or `np.int32` to specify the precision. If you wish to review your current use, check the release note link for additional information.\n",
      "Deprecated in NumPy 1.20; for more details and guidance: https://numpy.org/devdocs/release/1.20.0-notes.html#deprecations\n",
      "  labels = np.zeros(ln,dtype = np.int)\n"
     ]
    }
   ],
   "source": [
    "# Prediction on the test set\n",
    "train_set, test_set = dataset_KNN(df, 3, 'complete')\n",
    "predictions = []\n",
    "# Extract feature matrix X and target vector y from the train set dataframe\n",
    "X = train_set.iloc[:,:-1].values\n",
    "y = train_set.iloc[:,-1].values\n",
    "for sample in test_set.values:\n",
    "    prediction_1 = KNN_classification(sample, 5, X, y)\n",
    "    predictions.append(prediction_1)\n",
    "print(predictions)"
   ]
  },
  {
   "cell_type": "markdown",
   "metadata": {
    "id": "NoMHdgE2I3a0"
   },
   "source": [
    "# KNN on original dataset_KNN"
   ]
  },
  {
   "cell_type": "code",
   "execution_count": 20,
   "metadata": {
    "id": "raECrHVNIdDu"
   },
   "outputs": [],
   "source": [
    "df = pd.read_csv(\"Seed_Data.csv\")\n",
    "# Shuffle and Split and reset index\n",
    "df = df.sample(frac=1).reset_index(drop = True)\n",
    "train_set = df.iloc[:170, :].reset_index(drop = True)\n",
    "test_set = df.iloc[170:, :].reset_index(drop = True)\n",
    "# Extract feature matrics and target vectors\n",
    "X = train_set.iloc[:,:-1].values\n",
    "y = train_set.iloc[:,-1].values\n",
    "X_test = test_set.iloc[:,:-1].values\n",
    "y_test = test_set.iloc[:,-1].values"
   ]
  },
  {
   "cell_type": "code",
   "execution_count": 21,
   "metadata": {
    "colab": {
     "base_uri": "https://localhost:8080/"
    },
    "id": "CHnXp8DD-_M0",
    "outputId": "72e24119-1458-4f99-e7a4-3432bad79f7c"
   },
   "outputs": [
    {
     "name": "stdout",
     "output_type": "stream",
     "text": [
      "Accuracy using 3 knn: 0.9266666666666667\n",
      "Accuracy using 5 knn: 0.9400000000000001\n",
      "Accuracy using 7 knn: 0.9333333333333333\n",
      "Accuracy using 9 knn: 0.9400000000000002\n",
      "Accuracy using 11 knn: 0.9400000000000001\n",
      "Accuracy using KNN: 0.9360000000000002 \n"
     ]
    }
   ],
   "source": [
    "knn = [3,5,7,9,11] \n",
    "Accuracy = []\n",
    "for k in knn:\n",
    "    # Perform 10-fold cross validation on the first 150 samples of train set\n",
    "    result = k_Fold(train_set.iloc[:150,:], 10, k)\n",
    "    acc = sum(result)/len(result)\n",
    "    print(f\"Accuracy using {k} knn: {acc}\")\n",
    "    Accuracy.append(acc)\n",
    "    av_acc = sum(Accuracy)/len(Accuracy)\n",
    "print(f\"Accuracy using KNN: {av_acc} \")"
   ]
  },
  {
   "cell_type": "code",
   "execution_count": 22,
   "metadata": {
    "id": "i2QSbDxaIhQK"
   },
   "outputs": [],
   "source": [
    "predictions = []\n",
    "for sample in X_test:\n",
    "    prediction_1 = KNN_classification(sample, 5, X, y)\n",
    "    predictions.append(prediction_1)"
   ]
  },
  {
   "cell_type": "code",
   "execution_count": 23,
   "metadata": {
    "colab": {
     "base_uri": "https://localhost:8080/"
    },
    "id": "7BowA7twIk9W",
    "outputId": "0226fefd-48b2-4af3-c042-a4102547b5de"
   },
   "outputs": [
    {
     "data": {
      "text/plain": [
       "0.8"
      ]
     },
     "execution_count": 23,
     "metadata": {},
     "output_type": "execute_result"
    }
   ],
   "source": [
    "accuracy_metric(y_test, predictions)"
   ]
  },
  {
   "cell_type": "markdown",
   "metadata": {},
   "source": [
    "#### Comparison of the results:\n",
    "\n",
    "1. Agglomerative Clustering:\n",
    "\n",
    "   a. Single Linkage:\n",
    "      - Best scenario: 3 clusters\n",
    "      - Average accuracy: 97.38%\n",
    "      \n",
    "   b. Complete Linkage:\n",
    "      - Best scenario: 4 clusters\n",
    "      - Average accuracy: 96.67%\n",
    "      \n",
    "   c. Average Linkage:\n",
    "      - Best scenario: 3 clusters\n",
    "      - Average accuracy: 98.81%\n",
    "\n",
    "2. KNN Classifier (without clustering preprocessing):\n",
    "   - Average accuracy: 93.6%\n",
    "\n",
    "From the comparison, we can see that the highest average accuracy is achieved when using the Average Linkage method with 3 clusters (98.81%). This indicates that preprocessing the dataset with agglomerative clustering using average linkage improves the KNN classification accuracy compared to using the KNN classifier without any clustering preprocessing (93.6%)."
   ]
  }
 ],
 "metadata": {
  "colab": {
   "collapsed_sections": [],
   "name": "kxs2000_final_project.ipynb",
   "provenance": []
  },
  "kernelspec": {
   "display_name": "Python 3 (ipykernel)",
   "language": "python",
   "name": "python3"
  },
  "language_info": {
   "codemirror_mode": {
    "name": "ipython",
    "version": 3
   },
   "file_extension": ".py",
   "mimetype": "text/x-python",
   "name": "python",
   "nbconvert_exporter": "python",
   "pygments_lexer": "ipython3",
   "version": "3.10.9"
  }
 },
 "nbformat": 4,
 "nbformat_minor": 1
}
